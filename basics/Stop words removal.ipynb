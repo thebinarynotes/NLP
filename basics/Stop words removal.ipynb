{
 "cells": [
  {
   "cell_type": "markdown",
   "metadata": {},
   "source": [
    "## Stop words removal using Spacy"
   ]
  },
  {
   "cell_type": "code",
   "execution_count": 1,
   "metadata": {},
   "outputs": [],
   "source": [
    "import spacy"
   ]
  },
  {
   "cell_type": "code",
   "execution_count": 2,
   "metadata": {},
   "outputs": [],
   "source": [
    "spacy_nlp = spacy.load(\"en_core_web_sm\")"
   ]
  },
  {
   "cell_type": "code",
   "execution_count": 3,
   "metadata": {},
   "outputs": [
    {
     "name": "stdout",
     "output_type": "stream",
     "text": [
      "{'be', 'or', 'via', 'nobody', 'how', 'when', 'whereas', 'upon', 'get', 'among', 'six', 'where', 'beyond', 'using', 'becoming', 'done', 'doing', 'beforehand', 'so', 'almost', 'hereby', 'while', 'make', '‘ve', 'has', 'him', 'her', 'several', 'somewhere', 'bottom', 'whereafter', 'hence', 'quite', 'before', 'become', 'first', 'can', 'further', 'who', 'without', 'does', 'his', 'very', 'hereafter', 'just', 'in', '‘m', 'namely', 'anywhere', 'nine', 'few', 'serious', 'why', 'indeed', 'been', 'at', 'an', 'himself', 'full', 'ca', 'noone', 'one', 'being', 'other', 'put', 'hereupon', 'next', 'rather', 'thus', 'am', 'after', 'besides', 'but', 'last', 'least', 'give', 'my', 'should', 'also', 'latter', 'part', 'every', 'much', 'side', 'out', 'really', 'off', 'were', 'whither', 'ours', 'between', 'whom', 'onto', 'those', 'themselves', 'otherwise', 'this', 'yourself', '‘re', 'mine', 'into', 'although', 'on', 'else', 'below', 'have', 'whenever', 'ourselves', 'whose', \"n't\", 'own', 'even', 'mostly', 'what', '‘d', 'anyone', 'yours', 'about', 'by', 'he', '’ll', 'only', 'thereafter', 'various', 'both', 'cannot', 'formerly', 'everyone', '‘ll', 'during', 'moreover', 'meanwhile', 'anything', 'many', 'nor', 'empty', 'show', 'regarding', 'too', 'since', 'over', 'up', 'are', 'except', 'herein', 'yourselves', 'each', 'they', 'all', 'sometimes', 'more', 'whoever', 'five', 'might', 'as', 'thereby', 'unless', '‘s', 'anyhow', 'perhaps', 'still', 'whether', 'had', 'its', 'must', 'that', 'me', 'sixty', 'another', 'say', 'wherein', 'afterwards', 'wherever', 'them', \"'ve\", 'less', 'anyway', 'fifteen', 'is', 'us', 'never', \"'s\", 'whatever', 'which', 'became', 'somehow', 'than', 'three', 'name', 'itself', 'any', 'there', 'if', 'fifty', 'under', 'did', \"'ll\", 'once', 'the', 'throughout', 'none', 'twenty', 'not', 'whereby', 'someone', 'amount', 'alone', 'could', \"'m\", 'sometime', 'here', 'others', 'either', 'nevertheless', 'our', 'do', 'was', 'because', 're', 'thereupon', 'these', 'towards', '’d', 'go', 'ten', '’s', 'however', 'seemed', 'most', 'twelve', 'whole', 'their', 'therefore', 'move', 'nowhere', 'latterly', 'may', 'please', 'always', 'already', 'seeming', 'hers', 'you', 'amongst', 'eight', 'seem', 'for', 'myself', 'third', 'again', 'against', \"'d\", 'nothing', 'n‘t', 'elsewhere', 'together', 'she', 'and', 'forty', 'due', 'seems', 'four', 'often', 'thence', 'becomes', 'used', 'until', 'per', 'would', 'yet', 'above', 'of', 'will', 'i', '’m', 'call', 'though', 'to', 'ever', \"'re\", '’ve', 'front', 'made', 'toward', 'former', 'everything', 'behind', 'now', 'it', 'along', 'something', 'take', 'with', 'same', 'see', 'your', 'no', 'some', 'neither', 'whereupon', 'thru', 'well', 'such', 'herself', 'then', 'back', 'beside', '’re', 'hundred', 'we', 'therein', 'across', 'eleven', 'a', 'within', 'down', 'everywhere', 'through', 'top', 'around', 'two', 'whence', 'n’t', 'enough', 'keep', 'from'}\n"
     ]
    }
   ],
   "source": [
    "# Display all the defaults stop words in Spacy\n",
    "\n",
    "print(spacy_nlp.Defaults.stop_words)"
   ]
  },
  {
   "cell_type": "code",
   "execution_count": 11,
   "metadata": {},
   "outputs": [
    {
     "name": "stdout",
     "output_type": "stream",
     "text": [
      "Its a stop word\n"
     ]
    }
   ],
   "source": [
    "# Checking if a given word is stope word or not\n",
    "\n",
    "l = spacy_nlp.vocab[\"the\"] # It will return lexeme object\n",
    "if l.is_stop:\n",
    "    print(\"Its a stop word\")\n",
    "else:\n",
    "    print(\"Not a stop word\")"
   ]
  },
  {
   "cell_type": "code",
   "execution_count": 7,
   "metadata": {},
   "outputs": [],
   "source": [
    "text = \"All the glitters are not gold\""
   ]
  },
  {
   "cell_type": "code",
   "execution_count": 8,
   "metadata": {},
   "outputs": [],
   "source": [
    "doc = spacy_nlp(text)"
   ]
  },
  {
   "cell_type": "code",
   "execution_count": 12,
   "metadata": {},
   "outputs": [],
   "source": [
    "output_list = []\n",
    "for token in doc:\n",
    "    l = spacy_nlp.vocab[token.text]\n",
    "    if not l.is_stop:\n",
    "        output_list.append(token.text)"
   ]
  },
  {
   "cell_type": "code",
   "execution_count": 13,
   "metadata": {},
   "outputs": [
    {
     "name": "stdout",
     "output_type": "stream",
     "text": [
      "['glitters', 'gold']\n"
     ]
    }
   ],
   "source": [
    "print(output_list)"
   ]
  },
  {
   "cell_type": "code",
   "execution_count": 14,
   "metadata": {},
   "outputs": [],
   "source": [
    "l = spacy_nlp.vocab[\"bcs\"]\n",
    "if l.is_stop:\n",
    "    print(\"Yes\")"
   ]
  },
  {
   "cell_type": "code",
   "execution_count": 15,
   "metadata": {},
   "outputs": [],
   "source": [
    "# Adding a new stop word into Default stop word list\n",
    "# You saw that \"bcs\" is not a stop word\n",
    "\n",
    "spacy_nlp.Defaults.stop_words.add(\"bcs\")\n",
    "spacy_nlp.vocab[\"bcs\"].is_stop = True"
   ]
  },
  {
   "cell_type": "code",
   "execution_count": 16,
   "metadata": {},
   "outputs": [
    {
     "name": "stdout",
     "output_type": "stream",
     "text": [
      "Yes\n"
     ]
    }
   ],
   "source": [
    "l = spacy_nlp.vocab[\"bcs\"]\n",
    "if l.is_stop:\n",
    "    print(\"Yes\")"
   ]
  },
  {
   "cell_type": "markdown",
   "metadata": {},
   "source": [
    "## Stop words removal using NLTK"
   ]
  },
  {
   "cell_type": "code",
   "execution_count": 17,
   "metadata": {},
   "outputs": [],
   "source": [
    "import nltk\n",
    "from nltk.corpus import stopwords"
   ]
  },
  {
   "cell_type": "code",
   "execution_count": 18,
   "metadata": {},
   "outputs": [
    {
     "name": "stdout",
     "output_type": "stream",
     "text": [
      "{'be', 'when', 'wouldn', 'how', \"couldn't\", 'where', 'will', 'o', 'doing', 'while', 'so', 'him', 'has', 'her', 'before', 'hadn', 'who', 'further', 'can', \"it's\", 'ain', 'doesn', 'y', 'his', 'does', 'very', 'just', \"wasn't\", 'in', \"that'll\", 'why', 'few', 'don', 'll', \"won't\", 'been', 'at', 'an', 'yours', 'himself', 'same', 'being', 'other', \"needn't\", \"mustn't\", 'am', 'my', 'theirs', 'but', 'after', 'should', 'were', 'out', 'off', 'ours', 'mightn', 'between', 'whom', 'those', 'themselves', \"shan't\", 'yourself', 'this', \"you'd\", 'into', 'on', 'have', 'below', 'ourselves', 'own', 'what', \"you'll\", 'he', 'by', 'about', \"hasn't\", 'only', 'both', 'during', 'nor', 'too', 'won', 'over', \"hadn't\", 'up', 'are', \"isn't\", 'yourselves', 'they', 'each', 'all', 'more', 'as', \"don't\", \"weren't\", 'had', 'its', \"you've\", 'that', 'me', 'them', 'is', 'which', 'than', 'itself', 'there', 'under', 'if', 'any', 'did', 'once', 'the', \"didn't\", 'having', 'not', 'from', 'hasn', 'here', 'our', 'was', 'd', 'do', 'these', 'because', 're', 'm', \"should've\", 'most', 'their', 'haven', 'you', 'hers', \"she's\", 'for', 'myself', 'ma', 'against', 'again', \"shouldn't\", 'weren', 'she', 'and', 'couldn', 'until', 'shan', 'of', 'above', 'i', \"mightn't\", \"haven't\", 'to', 'wasn', 'didn', \"aren't\", 'shouldn', 'now', \"wouldn't\", 'with', 'it', 'aren', 'your', 'some', 'no', 's', 'such', 'herself', 'then', 't', 'isn', 'we', \"you're\", 'a', 've', 'down', 'through', 'mustn', \"doesn't\", 'needn', 'or'}\n"
     ]
    }
   ],
   "source": [
    "# Displaying set of NLTK stop words\n",
    "print(set(stopwords.words('english')))\n"
   ]
  },
  {
   "cell_type": "code",
   "execution_count": 19,
   "metadata": {},
   "outputs": [],
   "source": [
    "from nltk.tokenize import word_tokenize"
   ]
  },
  {
   "cell_type": "code",
   "execution_count": 20,
   "metadata": {},
   "outputs": [],
   "source": [
    "text = \"It's late in the evening; she's wondering what clothes to wear She puts on her make-up and brushes her long blonde hair And then she asks me, Do I look all right?\""
   ]
  },
  {
   "cell_type": "code",
   "execution_count": 22,
   "metadata": {},
   "outputs": [],
   "source": [
    "tokens = word_tokenize(text) # Getting token from text"
   ]
  },
  {
   "cell_type": "code",
   "execution_count": 23,
   "metadata": {},
   "outputs": [],
   "source": [
    "stop_words = set(stopwords.words('english')) # Getting set of all NLTK stop words"
   ]
  },
  {
   "cell_type": "code",
   "execution_count": 24,
   "metadata": {},
   "outputs": [
    {
     "name": "stdout",
     "output_type": "stream",
     "text": [
      "['It', \"'s\", 'late', 'evening', ';', \"'s\", 'wondering', 'clothes', 'wear', 'She', 'puts', 'make-up', 'brushes', 'long', 'blonde', 'hair', 'And', 'asks', ',', 'Do', 'I', 'look', 'right', '?']\n"
     ]
    }
   ],
   "source": [
    "# We'll check is the token is in stop word or not\n",
    "output = []\n",
    "for token in tokens:\n",
    "    if not token in stop_words:\n",
    "        output.append(token)\n",
    "print(output)"
   ]
  },
  {
   "cell_type": "code",
   "execution_count": 25,
   "metadata": {},
   "outputs": [],
   "source": [
    "# Addding new word into set of stop words\n",
    "stop_words.add(\"bcs\")"
   ]
  },
  {
   "cell_type": "code",
   "execution_count": null,
   "metadata": {},
   "outputs": [],
   "source": []
  }
 ],
 "metadata": {
  "kernelspec": {
   "display_name": "Python 3",
   "language": "python",
   "name": "python3"
  },
  "language_info": {
   "codemirror_mode": {
    "name": "ipython",
    "version": 3
   },
   "file_extension": ".py",
   "mimetype": "text/x-python",
   "name": "python",
   "nbconvert_exporter": "python",
   "pygments_lexer": "ipython3",
   "version": "3.6.7"
  }
 },
 "nbformat": 4,
 "nbformat_minor": 2
}
