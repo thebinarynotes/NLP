{
 "cells": [
  {
   "cell_type": "markdown",
   "metadata": {},
   "source": [
    "## Lemmatization using Spacy"
   ]
  },
  {
   "cell_type": "code",
   "execution_count": 1,
   "metadata": {},
   "outputs": [],
   "source": [
    "import spacy"
   ]
  },
  {
   "cell_type": "code",
   "execution_count": 2,
   "metadata": {},
   "outputs": [],
   "source": [
    "spacy_nlp = spacy.load(\"en_core_web_sm\")"
   ]
  },
  {
   "cell_type": "code",
   "execution_count": 5,
   "metadata": {},
   "outputs": [],
   "source": [
    "text = \"he thought that previously i ran on this road where i am running now and i lost, but currently i am winning\""
   ]
  },
  {
   "cell_type": "code",
   "execution_count": 6,
   "metadata": {},
   "outputs": [],
   "source": [
    "doc = spacy_nlp(text)"
   ]
  },
  {
   "cell_type": "code",
   "execution_count": 7,
   "metadata": {},
   "outputs": [
    {
     "name": "stdout",
     "output_type": "stream",
     "text": [
      "he  ---------  -PRON-\n",
      "thought  ---------  think\n",
      "that  ---------  that\n",
      "previously  ---------  previously\n",
      "i  ---------  i\n",
      "ran  ---------  run\n",
      "on  ---------  on\n",
      "this  ---------  this\n",
      "road  ---------  road\n",
      "where  ---------  where\n",
      "i  ---------  i\n",
      "am  ---------  be\n",
      "running  ---------  run\n",
      "now  ---------  now\n",
      "and  ---------  and\n",
      "i  ---------  i\n",
      "lost  ---------  lose\n",
      ",  ---------  ,\n",
      "but  ---------  but\n",
      "currently  ---------  currently\n",
      "i  ---------  i\n",
      "am  ---------  be\n",
      "winning  ---------  win\n"
     ]
    }
   ],
   "source": [
    "for token in doc:\n",
    "    print(token.text, \" --------- \", token.lemma_)"
   ]
  },
  {
   "cell_type": "code",
   "execution_count": 13,
   "metadata": {},
   "outputs": [
    {
     "name": "stdout",
     "output_type": "stream",
     "text": [
      "['ducks']\n"
     ]
    }
   ],
   "source": [
    "# Alternatively you can try follwing \n",
    "from spacy.lemmatizer import Lemmatizer\n",
    "\n",
    "lemmatizer = Lemmatizer()\n",
    "\n",
    "l = lemmatizer(\"ducks\", \"noun\") # since its a noun in the Part of speech\n",
    "print(l)"
   ]
  },
  {
   "cell_type": "markdown",
   "metadata": {},
   "source": [
    "## Lemmatization using NLTK"
   ]
  },
  {
   "cell_type": "code",
   "execution_count": 14,
   "metadata": {},
   "outputs": [],
   "source": [
    "from nltk.stem import WordNetLemmatizer "
   ]
  },
  {
   "cell_type": "code",
   "execution_count": 15,
   "metadata": {},
   "outputs": [],
   "source": [
    "lemmatizer = WordNetLemmatizer() "
   ]
  },
  {
   "cell_type": "code",
   "execution_count": 20,
   "metadata": {},
   "outputs": [],
   "source": [
    "text = [\"having\", \"running\", \"tried\", \"said\", \"saying\"]"
   ]
  },
  {
   "cell_type": "code",
   "execution_count": 24,
   "metadata": {},
   "outputs": [
    {
     "name": "stdout",
     "output_type": "stream",
     "text": [
      "having\n",
      "running\n",
      "tried\n",
      "said\n",
      "saying\n"
     ]
    }
   ],
   "source": [
    "for t in text:\n",
    "    print(lemmatizer.lemmatize(t))"
   ]
  },
  {
   "cell_type": "markdown",
   "metadata": {},
   "source": [
    "### In the above example you saw that lemmatization is not giving correct result because default PoS is Noun, but all the words are verbs"
   ]
  },
  {
   "cell_type": "code",
   "execution_count": 25,
   "metadata": {},
   "outputs": [
    {
     "name": "stdout",
     "output_type": "stream",
     "text": [
      "have\n",
      "run\n",
      "try\n",
      "say\n",
      "say\n"
     ]
    }
   ],
   "source": [
    "for t in text:\n",
    "    print(lemmatizer.lemmatize(t, pos = \"v\"))"
   ]
  },
  {
   "cell_type": "markdown",
   "metadata": {},
   "source": [
    "### For Noun we can use \"n\", for and adjective we can use \"a\""
   ]
  },
  {
   "cell_type": "code",
   "execution_count": null,
   "metadata": {},
   "outputs": [],
   "source": []
  }
 ],
 "metadata": {
  "kernelspec": {
   "display_name": "Python 3",
   "language": "python",
   "name": "python3"
  },
  "language_info": {
   "codemirror_mode": {
    "name": "ipython",
    "version": 3
   },
   "file_extension": ".py",
   "mimetype": "text/x-python",
   "name": "python",
   "nbconvert_exporter": "python",
   "pygments_lexer": "ipython3",
   "version": "3.6.7"
  }
 },
 "nbformat": 4,
 "nbformat_minor": 2
}
