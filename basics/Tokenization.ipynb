{
 "cells": [
  {
   "cell_type": "markdown",
   "metadata": {},
   "source": [
    "## Tokenization using Spacy\n",
    "\n",
    "### Installation \n",
    "\n",
    "pip install spacy\n",
    "\n",
    "python -m spacy download en_core_web_sm"
   ]
  },
  {
   "cell_type": "markdown",
   "metadata": {},
   "source": [
    "Spacy using an object called Doc which is the sequece of Token objects\n"
   ]
  },
  {
   "cell_type": "code",
   "execution_count": 1,
   "metadata": {},
   "outputs": [],
   "source": [
    "import spacy"
   ]
  },
  {
   "cell_type": "code",
   "execution_count": 2,
   "metadata": {},
   "outputs": [],
   "source": [
    "spacy_nlp = spacy.load('en_core_web_sm') # Loading english language model"
   ]
  },
  {
   "cell_type": "code",
   "execution_count": 4,
   "metadata": {},
   "outputs": [],
   "source": [
    "# Text which we want to be tokenized\n",
    "\n",
    "text = \"It's late in the evening; she's wondering what clothes to wear She puts on her make-up and brushes her long blonde hair And then she asks me, Do I look all right? And I say, Yes, you look wonderful tonight\""
   ]
  },
  {
   "cell_type": "code",
   "execution_count": 5,
   "metadata": {},
   "outputs": [],
   "source": [
    "# Creating spacy Doc object, it is the sequence of Token objects of spacy\n",
    "\n",
    "doc = spacy_nlp(text)"
   ]
  },
  {
   "cell_type": "code",
   "execution_count": 10,
   "metadata": {},
   "outputs": [],
   "source": [
    "# Fetching text part of each token\n",
    "\n",
    "tokens = [token.text for token in doc]"
   ]
  },
  {
   "cell_type": "code",
   "execution_count": 11,
   "metadata": {},
   "outputs": [
    {
     "name": "stdout",
     "output_type": "stream",
     "text": [
      "['It', \"'s\", 'late', 'in', 'the', 'evening', ';', 'she', \"'s\", 'wondering', 'what', 'clothes', 'to', 'wear', 'She', 'puts', 'on', 'her', 'make', '-', 'up', 'and', 'brushes', 'her', 'long', 'blonde', 'hair', 'And', 'then', 'she', 'asks', 'me', ',', 'Do', 'I', 'look', 'all', 'right', '?', 'And', 'I', 'say', ',', 'Yes', ',', 'you', 'look', 'wonderful', 'tonight']\n"
     ]
    }
   ],
   "source": [
    "print(tokens)"
   ]
  },
  {
   "cell_type": "markdown",
   "metadata": {},
   "source": [
    "In the tokens list you can see the spilt rules have been applied, which we have studied in last section."
   ]
  },
  {
   "cell_type": "markdown",
   "metadata": {},
   "source": [
    "## Tokenization using NLTK\n",
    "\n",
    "### Installation\n",
    "\n",
    "pip install nltk\n",
    "\n",
    "### NLTK packages download\n",
    "\n",
    "Go into python editor and then run following commands\n",
    "\n",
    "import nltk\n",
    "\n",
    "nltk.download ()\n"
   ]
  },
  {
   "cell_type": "markdown",
   "metadata": {},
   "source": [
    "NLTK provides lot of tokenizer, you can find the list here https://www.nltk.org/api/nltk.tokenize.html"
   ]
  },
  {
   "cell_type": "code",
   "execution_count": 12,
   "metadata": {},
   "outputs": [],
   "source": [
    "from nltk import word_tokenize"
   ]
  },
  {
   "cell_type": "code",
   "execution_count": 13,
   "metadata": {},
   "outputs": [],
   "source": [
    "# Text which we want to be tokenized\n",
    "\n",
    "text = \"It's late in the evening; she's wondering what clothes to wear She puts on her make-up and brushes her long blonde hair And then she asks me, Do I look all right? And I say, Yes, you look wonderful tonight\""
   ]
  },
  {
   "cell_type": "code",
   "execution_count": 14,
   "metadata": {},
   "outputs": [],
   "source": [
    "tokens = word_tokenize(text)"
   ]
  },
  {
   "cell_type": "code",
   "execution_count": 15,
   "metadata": {},
   "outputs": [
    {
     "name": "stdout",
     "output_type": "stream",
     "text": [
      "['It', \"'s\", 'late', 'in', 'the', 'evening', ';', 'she', \"'s\", 'wondering', 'what', 'clothes', 'to', 'wear', 'She', 'puts', 'on', 'her', 'make-up', 'and', 'brushes', 'her', 'long', 'blonde', 'hair', 'And', 'then', 'she', 'asks', 'me', ',', 'Do', 'I', 'look', 'all', 'right', '?', 'And', 'I', 'say', ',', 'Yes', ',', 'you', 'look', 'wonderful', 'tonight']\n"
     ]
    }
   ],
   "source": [
    "print(tokens)"
   ]
  },
  {
   "cell_type": "code",
   "execution_count": null,
   "metadata": {},
   "outputs": [],
   "source": []
  }
 ],
 "metadata": {
  "kernelspec": {
   "display_name": "Python 3",
   "language": "python",
   "name": "python3"
  },
  "language_info": {
   "codemirror_mode": {
    "name": "ipython",
    "version": 3
   },
   "file_extension": ".py",
   "mimetype": "text/x-python",
   "name": "python",
   "nbconvert_exporter": "python",
   "pygments_lexer": "ipython3",
   "version": "3.6.7"
  }
 },
 "nbformat": 4,
 "nbformat_minor": 2
}
